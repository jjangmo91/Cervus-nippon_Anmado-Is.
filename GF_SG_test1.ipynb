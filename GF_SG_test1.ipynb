{
  "nbformat": 4,
  "nbformat_minor": 0,
  "metadata": {
    "colab": {
      "provenance": [],
      "authorship_tag": "ABX9TyOK2q2a4XptdXuG2U07pXFA",
      "include_colab_link": true
    },
    "kernelspec": {
      "name": "python3",
      "display_name": "Python 3"
    },
    "language_info": {
      "name": "python"
    }
  },
  "cells": [
    {
      "cell_type": "markdown",
      "metadata": {
        "id": "view-in-github",
        "colab_type": "text"
      },
      "source": [
        "<a href=\"https://colab.research.google.com/github/jjangmo91/Cervus-nippon_Anmado-Is./blob/main/GF_SG_test1.ipynb\" target=\"_parent\"><img src=\"https://colab.research.google.com/assets/colab-badge.svg\" alt=\"Open In Colab\"/></a>"
      ]
    },
    {
      "cell_type": "code",
      "execution_count": 6,
      "metadata": {
        "colab": {
          "base_uri": "https://localhost:8080/",
          "height": 17
        },
        "id": "Ehe-iYDrJCNA",
        "outputId": "8726469f-7881-4ef9-b470-38a2cb733f82"
      },
      "outputs": [
        {
          "output_type": "display_data",
          "data": {
            "text/plain": [
              "<IPython.core.display.HTML object>"
            ],
            "text/html": [
              "\n",
              "            <style>\n",
              "                .geemap-dark {\n",
              "                    --jp-widgets-color: white;\n",
              "                    --jp-widgets-label-color: white;\n",
              "                    --jp-ui-font-color1: white;\n",
              "                    --jp-layout-color2: #454545;\n",
              "                    background-color: #383838;\n",
              "                }\n",
              "\n",
              "                .geemap-dark .jupyter-button {\n",
              "                    --jp-layout-color3: #383838;\n",
              "                }\n",
              "\n",
              "                .geemap-colab {\n",
              "                    background-color: var(--colab-primary-surface-color, white);\n",
              "                }\n",
              "\n",
              "                .geemap-colab .jupyter-button {\n",
              "                    --jp-layout-color3: var(--colab-primary-surface-color, white);\n",
              "                }\n",
              "            </style>\n",
              "            "
            ]
          },
          "metadata": {}
        }
      ],
      "source": [
        "# Earth Engine Python API 모듈 및 라이브러리 호출\n",
        "import ee\n",
        "import geemap\n",
        "import pandas as pd\n",
        "import numpy as np\n",
        "import matplotlib.pyplot as plt\n",
        "import matplotlib.colors as mcolors\n",
        "import seaborn as sns\n",
        "from osgeo import gdal\n",
        "import requests\n",
        "import json\n",
        "import geopandas as gpd\n",
        "import os\n",
        "import shutil\n",
        "import psutil\n",
        "from google.colab import drive\n",
        "import zipfile\n",
        "import glob\n",
        "\n",
        "# Earth Engine 인증\n",
        "ee.Authenticate()\n",
        "\n",
        "# Earth Engine 초기화\n",
        "ee.Initialize(project='ee-jjangmo91')"
      ]
    },
    {
      "cell_type": "markdown",
      "source": [
        "Google Drive에 저장된 데이터를 가져옵니다."
      ],
      "metadata": {
        "id": "-3rszwKbJeof"
      }
    },
    {
      "cell_type": "code",
      "source": [
        "# Google Drive 마운트\n",
        "drive.mount('/content/drive')\n",
        "\n",
        "# 데이터 폴더 경로 설정\n",
        "data_dir = '/content/drive/MyDrive/Deer/'"
      ],
      "metadata": {
        "colab": {
          "base_uri": "https://localhost:8080/",
          "height": 35
        },
        "id": "z7-CeZcZJdQd",
        "outputId": "7babff49-ef7b-4025-df76-1f50258fc618"
      },
      "execution_count": 3,
      "outputs": [
        {
          "output_type": "display_data",
          "data": {
            "text/plain": [
              "<IPython.core.display.HTML object>"
            ],
            "text/html": [
              "\n",
              "            <style>\n",
              "                .geemap-dark {\n",
              "                    --jp-widgets-color: white;\n",
              "                    --jp-widgets-label-color: white;\n",
              "                    --jp-ui-font-color1: white;\n",
              "                    --jp-layout-color2: #454545;\n",
              "                    background-color: #383838;\n",
              "                }\n",
              "\n",
              "                .geemap-dark .jupyter-button {\n",
              "                    --jp-layout-color3: #383838;\n",
              "                }\n",
              "\n",
              "                .geemap-colab {\n",
              "                    background-color: var(--colab-primary-surface-color, white);\n",
              "                }\n",
              "\n",
              "                .geemap-colab .jupyter-button {\n",
              "                    --jp-layout-color3: var(--colab-primary-surface-color, white);\n",
              "                }\n",
              "            </style>\n",
              "            "
            ]
          },
          "metadata": {}
        },
        {
          "output_type": "stream",
          "name": "stdout",
          "text": [
            "Mounted at /content/drive\n"
          ]
        }
      ]
    },
    {
      "cell_type": "code",
      "source": [
        "# TIFF 파일 목록 가져오기\n",
        "tiff_files = glob.glob(os.path.join(data_dir, '*.tif'))\n",
        "\n",
        "# 파일명에서 날짜 추출하여 데이터프레임 생성\n",
        "file_dates = []\n",
        "\n",
        "for file_path in tiff_files:\n",
        "    # 파일명 추출\n",
        "    file_name = os.path.basename(file_path)\n",
        "\n",
        "    # 파일명에서 날짜 부분 추출 (예: 'NDVI_20140101.tif'에서 '20140101' 추출)\n",
        "    date_str = file_name.split('_')[1].split('.')[0]\n",
        "\n",
        "    # 문자열을 날짜 형식으로 변환\n",
        "    date = pd.to_datetime(date_str, format='%Y%m%d')\n",
        "\n",
        "    file_dates.append({'file_path': file_path, 'date': date})\n",
        "\n",
        "# 데이터프레임 생성\n",
        "files_df = pd.DataFrame(file_dates)\n",
        "\n",
        "# 날짜 순으로 정렬\n",
        "files_df = files_df.sort_values(by='date').reset_index(drop=True)\n",
        "\n",
        "print(files_df)"
      ],
      "metadata": {
        "colab": {
          "base_uri": "https://localhost:8080/",
          "height": 366
        },
        "id": "MWHm-kHgNzoJ",
        "outputId": "c44178e5-49a1-44b9-8ff9-05b42276ed55"
      },
      "execution_count": 7,
      "outputs": [
        {
          "output_type": "display_data",
          "data": {
            "text/plain": [
              "<IPython.core.display.HTML object>"
            ],
            "text/html": [
              "\n",
              "            <style>\n",
              "                .geemap-dark {\n",
              "                    --jp-widgets-color: white;\n",
              "                    --jp-widgets-label-color: white;\n",
              "                    --jp-ui-font-color1: white;\n",
              "                    --jp-layout-color2: #454545;\n",
              "                    background-color: #383838;\n",
              "                }\n",
              "\n",
              "                .geemap-dark .jupyter-button {\n",
              "                    --jp-layout-color3: #383838;\n",
              "                }\n",
              "\n",
              "                .geemap-colab {\n",
              "                    background-color: var(--colab-primary-surface-color, white);\n",
              "                }\n",
              "\n",
              "                .geemap-colab .jupyter-button {\n",
              "                    --jp-layout-color3: var(--colab-primary-surface-color, white);\n",
              "                }\n",
              "            </style>\n",
              "            "
            ]
          },
          "metadata": {}
        },
        {
          "output_type": "stream",
          "name": "stdout",
          "text": [
            "                                            file_path       date\n",
            "0   /content/drive/MyDrive/Deer/20140101_20140630.tif 2014-06-30\n",
            "1   /content/drive/MyDrive/Deer/20140701_20141231.tif 2014-12-31\n",
            "2   /content/drive/MyDrive/Deer/20150101_20150630.tif 2015-06-30\n",
            "3   /content/drive/MyDrive/Deer/20150701_20151231.tif 2015-12-31\n",
            "4   /content/drive/MyDrive/Deer/20160101_20160630.tif 2016-06-30\n",
            "5   /content/drive/MyDrive/Deer/20160701_20161231.tif 2016-12-31\n",
            "6   /content/drive/MyDrive/Deer/20170101_20170630.tif 2017-06-30\n",
            "7   /content/drive/MyDrive/Deer/20170701_20171231.tif 2017-12-31\n",
            "8   /content/drive/MyDrive/Deer/20180101_20180630.tif 2018-06-30\n",
            "9   /content/drive/MyDrive/Deer/20180701_20181231.tif 2018-12-31\n",
            "10  /content/drive/MyDrive/Deer/20190101_20190630.tif 2019-06-30\n",
            "11  /content/drive/MyDrive/Deer/20190701_20191231.tif 2019-12-31\n",
            "12  /content/drive/MyDrive/Deer/20200101_20200630.tif 2020-06-30\n",
            "13  /content/drive/MyDrive/Deer/20200701_20201231.tif 2020-12-31\n",
            "14  /content/drive/MyDrive/Deer/20210101_20210630.tif 2021-06-30\n",
            "15  /content/drive/MyDrive/Deer/20210701_20211231.tif 2021-12-31\n",
            "16  /content/drive/MyDrive/Deer/20220101_20220630.tif 2022-06-30\n",
            "17  /content/drive/MyDrive/Deer/20220701_20221231.tif 2022-12-31\n"
          ]
        }
      ]
    },
    {
      "cell_type": "code",
      "source": [
        "# Anmado GeoJSON URL\n",
        "url_anmado = 'https://github.com/jjangmo91/Cervus-nippon_Anmado-Is./raw/main/anmado.geojson'\n",
        "\n",
        "# GeoJSON 파일을 GEE FeatureCollection으로 변환하는 함수\n",
        "def geojson_to_feature_collection(url):\n",
        "    response = requests.get(url)\n",
        "    geojson = response.json()\n",
        "    features = []\n",
        "    for feature in geojson['features']:\n",
        "        geom = ee.Geometry(feature['geometry'])\n",
        "        feat = ee.Feature(geom, feature['properties'])\n",
        "        features.append(feat)\n",
        "    return ee.FeatureCollection(features)\n",
        "\n",
        "# Anmado FeatureCollection 생성\n",
        "anmado_fc = geojson_to_feature_collection(url_anmado)\n",
        "\n",
        "# FRTP_CD 값 목록 (문자열 형태)\n",
        "frtp_values = ['0', '1', '2', '3']\n",
        "\n",
        "# 각 FRTP_CD 값에 대해 AOI 설정\n",
        "results_anmado = []\n",
        "\n",
        "for frtp_value in frtp_values:\n",
        "    # 속성 이름 'FRTP_CD'로 필터링\n",
        "    filtered_anmado_fc = anmado_fc.filter(ee.Filter.eq('FRTP_CD', frtp_value))\n",
        "\n",
        "    # 필터링된 FeatureCollection 크기 확인\n",
        "    count_anmado = filtered_anmado_fc.size().getInfo()\n",
        "\n",
        "    print(f\"FRTP_CD {frtp_value} - Anmado Feature Count: {count_anmado}\")\n",
        "\n",
        "    if count_anmado == 0:\n",
        "        print(f\"FRTP_CD {frtp_value}에 대한 FeatureCollection이 비어 있습니다.\")\n",
        "        continue  # 다음 FRTP_CD 값으로 넘어감\n",
        "\n",
        "    # AOI 설정: 원래의 geometry 사용\n",
        "    aoi_anmado = filtered_anmado_fc.geometry()\n",
        "\n",
        "    results_anmado.append((frtp_value, aoi_anmado))\n",
        "\n",
        "# 색상 팔레트 설정 (FRTP_CD 값별로 색상을 지정)\n",
        "import matplotlib.colors as mcolors\n",
        "import matplotlib.pyplot as plt\n",
        "\n",
        "colors = plt.cm.get_cmap('tab10', len(frtp_values)).colors  # 'tab10' 색상 팔레트 사용\n",
        "\n",
        "# RGB 색상을 16진수 문자열로 변환하는 함수\n",
        "def rgb_to_hex(rgb):\n",
        "    return mcolors.to_hex(rgb)\n",
        "\n",
        "# FRTP_CD 값에 따라 색상을 매핑\n",
        "color_map = {frtp_value: rgb_to_hex(colors[idx]) for idx, frtp_value in enumerate(frtp_values)}\n",
        "\n",
        "# 지도 객체 생성 및 AOI 시각화\n",
        "Map = geemap.Map(center=[35.344031, 126.028111], zoom=12)\n",
        "\n",
        "# 각 FRTP_CD에 대해 설정한 AOI를 시각화 (Anmado)\n",
        "for frtp_value, aoi in results_anmado:\n",
        "    if aoi is not None:\n",
        "        Map.addLayer(aoi, {'color': color_map[frtp_value]}, f'Anmado AOI FRTP_CD {frtp_value}')\n",
        "\n",
        "# Anmado AOI 중심으로 설정\n",
        "if results_anmado:\n",
        "    Map.centerObject(results_anmado[0][1], 12)\n",
        "\n",
        "# 지도 표시\n",
        "Map"
      ],
      "metadata": {
        "colab": {
          "base_uri": "https://localhost:8080/",
          "height": 483
        },
        "id": "NcU0QbyGTCzt",
        "outputId": "c02cc123-ee73-4315-9ae4-4c1bb67e7ccd"
      },
      "execution_count": 8,
      "outputs": [
        {
          "output_type": "display_data",
          "data": {
            "text/plain": [
              "<IPython.core.display.HTML object>"
            ],
            "text/html": [
              "\n",
              "            <style>\n",
              "                .geemap-dark {\n",
              "                    --jp-widgets-color: white;\n",
              "                    --jp-widgets-label-color: white;\n",
              "                    --jp-ui-font-color1: white;\n",
              "                    --jp-layout-color2: #454545;\n",
              "                    background-color: #383838;\n",
              "                }\n",
              "\n",
              "                .geemap-dark .jupyter-button {\n",
              "                    --jp-layout-color3: #383838;\n",
              "                }\n",
              "\n",
              "                .geemap-colab {\n",
              "                    background-color: var(--colab-primary-surface-color, white);\n",
              "                }\n",
              "\n",
              "                .geemap-colab .jupyter-button {\n",
              "                    --jp-layout-color3: var(--colab-primary-surface-color, white);\n",
              "                }\n",
              "            </style>\n",
              "            "
            ]
          },
          "metadata": {}
        },
        {
          "output_type": "stream",
          "name": "stdout",
          "text": [
            "FRTP_CD 0 - Anmado Feature Count: 30\n",
            "FRTP_CD 1 - Anmado Feature Count: 32\n",
            "FRTP_CD 2 - Anmado Feature Count: 27\n",
            "FRTP_CD 3 - Anmado Feature Count: 31\n"
          ]
        },
        {
          "output_type": "stream",
          "name": "stderr",
          "text": [
            "<ipython-input-8-aa78b2499d31>:46: MatplotlibDeprecationWarning: The get_cmap function was deprecated in Matplotlib 3.7 and will be removed two minor releases later. Use ``matplotlib.colormaps[name]`` or ``matplotlib.colormaps.get_cmap(obj)`` instead.\n",
            "  colors = plt.cm.get_cmap('tab10', len(frtp_values)).colors  # 'tab10' 색상 팔레트 사용\n"
          ]
        },
        {
          "output_type": "error",
          "ename": "TimeoutException",
          "evalue": "Requesting secret EE_PROJECT_ID timed out. Secrets can only be fetched when running from the Colab UI.",
          "traceback": [
            "\u001b[0;31m---------------------------------------------------------------------------\u001b[0m",
            "\u001b[0;31mTimeoutException\u001b[0m                          Traceback (most recent call last)",
            "\u001b[0;32m<ipython-input-8-aa78b2499d31>\u001b[0m in \u001b[0;36m<cell line: 56>\u001b[0;34m()\u001b[0m\n\u001b[1;32m     54\u001b[0m \u001b[0;34m\u001b[0m\u001b[0m\n\u001b[1;32m     55\u001b[0m \u001b[0;31m# 지도 객체 생성 및 AOI 시각화\u001b[0m\u001b[0;34m\u001b[0m\u001b[0;34m\u001b[0m\u001b[0m\n\u001b[0;32m---> 56\u001b[0;31m \u001b[0mMap\u001b[0m \u001b[0;34m=\u001b[0m \u001b[0mgeemap\u001b[0m\u001b[0;34m.\u001b[0m\u001b[0mMap\u001b[0m\u001b[0;34m(\u001b[0m\u001b[0mcenter\u001b[0m\u001b[0;34m=\u001b[0m\u001b[0;34m[\u001b[0m\u001b[0;36m35.344031\u001b[0m\u001b[0;34m,\u001b[0m \u001b[0;36m126.028111\u001b[0m\u001b[0;34m]\u001b[0m\u001b[0;34m,\u001b[0m \u001b[0mzoom\u001b[0m\u001b[0;34m=\u001b[0m\u001b[0;36m12\u001b[0m\u001b[0;34m)\u001b[0m\u001b[0;34m\u001b[0m\u001b[0;34m\u001b[0m\u001b[0m\n\u001b[0m\u001b[1;32m     57\u001b[0m \u001b[0;34m\u001b[0m\u001b[0m\n\u001b[1;32m     58\u001b[0m \u001b[0;31m# 각 FRTP_CD에 대해 설정한 AOI를 시각화 (Anmado)\u001b[0m\u001b[0;34m\u001b[0m\u001b[0;34m\u001b[0m\u001b[0m\n",
            "\u001b[0;32m/usr/local/lib/python3.10/dist-packages/geemap/geemap.py\u001b[0m in \u001b[0;36m__init__\u001b[0;34m(self, **kwargs)\u001b[0m\n\u001b[1;32m    157\u001b[0m         \u001b[0mself\u001b[0m\u001b[0;34m.\u001b[0m\u001b[0m_USER_AGENT_PREFIX\u001b[0m \u001b[0;34m=\u001b[0m \u001b[0;34m\"geemap\"\u001b[0m\u001b[0;34m\u001b[0m\u001b[0;34m\u001b[0m\u001b[0m\n\u001b[1;32m    158\u001b[0m         \u001b[0mself\u001b[0m\u001b[0;34m.\u001b[0m\u001b[0mkwargs\u001b[0m \u001b[0;34m=\u001b[0m \u001b[0mkwargs\u001b[0m\u001b[0;34m\u001b[0m\u001b[0;34m\u001b[0m\u001b[0m\n\u001b[0;32m--> 159\u001b[0;31m         \u001b[0msuper\u001b[0m\u001b[0;34m(\u001b[0m\u001b[0;34m)\u001b[0m\u001b[0;34m.\u001b[0m\u001b[0m__init__\u001b[0m\u001b[0;34m(\u001b[0m\u001b[0;34m**\u001b[0m\u001b[0mkwargs\u001b[0m\u001b[0;34m)\u001b[0m\u001b[0;34m\u001b[0m\u001b[0;34m\u001b[0m\u001b[0m\n\u001b[0m\u001b[1;32m    160\u001b[0m         \u001b[0mself\u001b[0m\u001b[0;34m.\u001b[0m\u001b[0m_var_name\u001b[0m \u001b[0;34m=\u001b[0m \u001b[0;34m\"Map\"\u001b[0m  \u001b[0;31m# The Map variable name for converting JS to Python\u001b[0m\u001b[0;34m\u001b[0m\u001b[0;34m\u001b[0m\u001b[0m\n\u001b[1;32m    161\u001b[0m \u001b[0;34m\u001b[0m\u001b[0m\n",
            "\u001b[0;32m/usr/local/lib/python3.10/dist-packages/geemap/core.py\u001b[0m in \u001b[0;36m__init__\u001b[0;34m(self, **kwargs)\u001b[0m\n\u001b[1;32m    709\u001b[0m         \u001b[0;31m# Authenticate and initialize EE.\u001b[0m\u001b[0;34m\u001b[0m\u001b[0;34m\u001b[0m\u001b[0m\n\u001b[1;32m    710\u001b[0m         \u001b[0;32mif\u001b[0m \u001b[0mkwargs\u001b[0m\u001b[0;34m.\u001b[0m\u001b[0mget\u001b[0m\u001b[0;34m(\u001b[0m\u001b[0;34m\"ee_initialize\"\u001b[0m\u001b[0;34m,\u001b[0m \u001b[0;32mTrue\u001b[0m\u001b[0;34m)\u001b[0m\u001b[0;34m:\u001b[0m\u001b[0;34m\u001b[0m\u001b[0;34m\u001b[0m\u001b[0m\n\u001b[0;32m--> 711\u001b[0;31m             \u001b[0mcoreutils\u001b[0m\u001b[0;34m.\u001b[0m\u001b[0mee_initialize\u001b[0m\u001b[0;34m(\u001b[0m\u001b[0muser_agent_prefix\u001b[0m\u001b[0;34m=\u001b[0m\u001b[0mself\u001b[0m\u001b[0;34m.\u001b[0m\u001b[0m_USER_AGENT_PREFIX\u001b[0m\u001b[0;34m)\u001b[0m\u001b[0;34m\u001b[0m\u001b[0;34m\u001b[0m\u001b[0m\n\u001b[0m\u001b[1;32m    712\u001b[0m \u001b[0;34m\u001b[0m\u001b[0m\n\u001b[1;32m    713\u001b[0m         \u001b[0;31m# Listen for layers being added/removed so we can update the layer manager.\u001b[0m\u001b[0;34m\u001b[0m\u001b[0;34m\u001b[0m\u001b[0m\n",
            "\u001b[0;32m/usr/local/lib/python3.10/dist-packages/geemap/coreutils.py\u001b[0m in \u001b[0;36mee_initialize\u001b[0;34m(token_name, auth_mode, service_account, auth_args, user_agent_prefix, project, **kwargs)\u001b[0m\n\u001b[1;32m     86\u001b[0m \u001b[0;34m\u001b[0m\u001b[0m\n\u001b[1;32m     87\u001b[0m     \u001b[0;32mif\u001b[0m \u001b[0mproject\u001b[0m \u001b[0;32mis\u001b[0m \u001b[0;32mNone\u001b[0m\u001b[0;34m:\u001b[0m\u001b[0;34m\u001b[0m\u001b[0;34m\u001b[0m\u001b[0m\n\u001b[0;32m---> 88\u001b[0;31m         \u001b[0mkwargs\u001b[0m\u001b[0;34m[\u001b[0m\u001b[0;34m\"project\"\u001b[0m\u001b[0;34m]\u001b[0m \u001b[0;34m=\u001b[0m \u001b[0mget_api_key\u001b[0m\u001b[0;34m(\u001b[0m\u001b[0;34m\"EE_PROJECT_ID\"\u001b[0m\u001b[0;34m)\u001b[0m\u001b[0;34m\u001b[0m\u001b[0;34m\u001b[0m\u001b[0m\n\u001b[0m\u001b[1;32m     89\u001b[0m     \u001b[0;32melse\u001b[0m\u001b[0;34m:\u001b[0m\u001b[0;34m\u001b[0m\u001b[0;34m\u001b[0m\u001b[0m\n\u001b[1;32m     90\u001b[0m         \u001b[0mkwargs\u001b[0m\u001b[0;34m[\u001b[0m\u001b[0;34m\"project\"\u001b[0m\u001b[0;34m]\u001b[0m \u001b[0;34m=\u001b[0m \u001b[0mproject\u001b[0m\u001b[0;34m\u001b[0m\u001b[0;34m\u001b[0m\u001b[0m\n",
            "\u001b[0;32m/usr/local/lib/python3.10/dist-packages/geemap/coreutils.py\u001b[0m in \u001b[0;36mget_api_key\u001b[0;34m(name, key)\u001b[0m\n\u001b[1;32m     35\u001b[0m \u001b[0;34m\u001b[0m\u001b[0m\n\u001b[1;32m     36\u001b[0m             \u001b[0;32mtry\u001b[0m\u001b[0;34m:\u001b[0m\u001b[0;34m\u001b[0m\u001b[0;34m\u001b[0m\u001b[0m\n\u001b[0;32m---> 37\u001b[0;31m                 \u001b[0;32mreturn\u001b[0m \u001b[0muserdata\u001b[0m\u001b[0;34m.\u001b[0m\u001b[0mget\u001b[0m\u001b[0;34m(\u001b[0m\u001b[0mname\u001b[0m\u001b[0;34m)\u001b[0m\u001b[0;34m\u001b[0m\u001b[0;34m\u001b[0m\u001b[0m\n\u001b[0m\u001b[1;32m     38\u001b[0m             \u001b[0;32mexcept\u001b[0m \u001b[0;34m(\u001b[0m\u001b[0muserdata\u001b[0m\u001b[0;34m.\u001b[0m\u001b[0mSecretNotFoundError\u001b[0m\u001b[0;34m,\u001b[0m \u001b[0muserdata\u001b[0m\u001b[0;34m.\u001b[0m\u001b[0mNotebookAccessError\u001b[0m\u001b[0;34m)\u001b[0m\u001b[0;34m:\u001b[0m\u001b[0;34m\u001b[0m\u001b[0;34m\u001b[0m\u001b[0m\n\u001b[1;32m     39\u001b[0m                 \u001b[0;32mreturn\u001b[0m \u001b[0mos\u001b[0m\u001b[0;34m.\u001b[0m\u001b[0menviron\u001b[0m\u001b[0;34m.\u001b[0m\u001b[0mget\u001b[0m\u001b[0;34m(\u001b[0m\u001b[0mname\u001b[0m\u001b[0;34m)\u001b[0m\u001b[0;34m\u001b[0m\u001b[0;34m\u001b[0m\u001b[0m\n",
            "\u001b[0;32m/usr/local/lib/python3.10/dist-packages/google/colab/userdata.py\u001b[0m in \u001b[0;36mget\u001b[0;34m(key)\u001b[0m\n\u001b[1;32m     64\u001b[0m     )\n\u001b[1;32m     65\u001b[0m   \u001b[0;32mif\u001b[0m \u001b[0;32mnot\u001b[0m \u001b[0mresp\u001b[0m\u001b[0;34m:\u001b[0m\u001b[0;34m\u001b[0m\u001b[0;34m\u001b[0m\u001b[0m\n\u001b[0;32m---> 66\u001b[0;31m     \u001b[0;32mraise\u001b[0m \u001b[0mTimeoutException\u001b[0m\u001b[0;34m(\u001b[0m\u001b[0mkey\u001b[0m\u001b[0;34m)\u001b[0m\u001b[0;34m\u001b[0m\u001b[0;34m\u001b[0m\u001b[0m\n\u001b[0m\u001b[1;32m     67\u001b[0m   \u001b[0;32mif\u001b[0m \u001b[0;32mnot\u001b[0m \u001b[0mresp\u001b[0m\u001b[0;34m.\u001b[0m\u001b[0mget\u001b[0m\u001b[0;34m(\u001b[0m\u001b[0;34m'exists'\u001b[0m\u001b[0;34m,\u001b[0m \u001b[0;32mFalse\u001b[0m\u001b[0;34m)\u001b[0m\u001b[0;34m:\u001b[0m\u001b[0;34m\u001b[0m\u001b[0;34m\u001b[0m\u001b[0m\n\u001b[1;32m     68\u001b[0m     \u001b[0;32mraise\u001b[0m \u001b[0mSecretNotFoundError\u001b[0m\u001b[0;34m(\u001b[0m\u001b[0mkey\u001b[0m\u001b[0;34m)\u001b[0m\u001b[0;34m\u001b[0m\u001b[0;34m\u001b[0m\u001b[0m\n",
            "\u001b[0;31mTimeoutException\u001b[0m: Requesting secret EE_PROJECT_ID timed out. Secrets can only be fetched when running from the Colab UI."
          ]
        }
      ]
    }
  ]
}