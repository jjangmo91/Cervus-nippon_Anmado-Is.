{
  "nbformat": 4,
  "nbformat_minor": 0,
  "metadata": {
    "colab": {
      "provenance": [],
      "authorship_tag": "ABX9TyN6nathcOoodGFeWx5a3Rru",
      "include_colab_link": true
    },
    "kernelspec": {
      "name": "python3",
      "display_name": "Python 3"
    },
    "language_info": {
      "name": "python"
    }
  },
  "cells": [
    {
      "cell_type": "markdown",
      "metadata": {
        "id": "view-in-github",
        "colab_type": "text"
      },
      "source": [
        "<a href=\"https://colab.research.google.com/github/jjangmo91/Cervus-nippon_Anmado-Is./blob/main/GF_SG_test2.ipynb\" target=\"_parent\"><img src=\"https://colab.research.google.com/assets/colab-badge.svg\" alt=\"Open In Colab\"/></a>"
      ]
    },
    {
      "cell_type": "code",
      "source": [
        "!pip install rasterio"
      ],
      "metadata": {
        "id": "LgfaDFbPRV6o",
        "outputId": "3f5a4530-e75b-476d-e54a-64a2d0ed39a0",
        "colab": {
          "base_uri": "https://localhost:8080/",
          "height": 384
        }
      },
      "execution_count": 13,
      "outputs": [
        {
          "output_type": "display_data",
          "data": {
            "text/plain": [
              "<IPython.core.display.HTML object>"
            ],
            "text/html": [
              "\n",
              "            <style>\n",
              "                .geemap-dark {\n",
              "                    --jp-widgets-color: white;\n",
              "                    --jp-widgets-label-color: white;\n",
              "                    --jp-ui-font-color1: white;\n",
              "                    --jp-layout-color2: #454545;\n",
              "                    background-color: #383838;\n",
              "                }\n",
              "\n",
              "                .geemap-dark .jupyter-button {\n",
              "                    --jp-layout-color3: #383838;\n",
              "                }\n",
              "\n",
              "                .geemap-colab {\n",
              "                    background-color: var(--colab-primary-surface-color, white);\n",
              "                }\n",
              "\n",
              "                .geemap-colab .jupyter-button {\n",
              "                    --jp-layout-color3: var(--colab-primary-surface-color, white);\n",
              "                }\n",
              "            </style>\n",
              "            "
            ]
          },
          "metadata": {}
        },
        {
          "output_type": "stream",
          "name": "stdout",
          "text": [
            "Collecting rasterio\n",
            "  Downloading rasterio-1.4.1-cp310-cp310-manylinux_2_17_x86_64.manylinux2014_x86_64.whl.metadata (9.1 kB)\n",
            "Collecting affine (from rasterio)\n",
            "  Downloading affine-2.4.0-py3-none-any.whl.metadata (4.0 kB)\n",
            "Requirement already satisfied: attrs in /usr/local/lib/python3.10/dist-packages (from rasterio) (24.2.0)\n",
            "Requirement already satisfied: certifi in /usr/local/lib/python3.10/dist-packages (from rasterio) (2024.8.30)\n",
            "Requirement already satisfied: click>=4.0 in /usr/local/lib/python3.10/dist-packages (from rasterio) (8.1.7)\n",
            "Collecting cligj>=0.5 (from rasterio)\n",
            "  Downloading cligj-0.7.2-py3-none-any.whl.metadata (5.0 kB)\n",
            "Requirement already satisfied: numpy>=1.24 in /usr/local/lib/python3.10/dist-packages (from rasterio) (1.26.4)\n",
            "Collecting click-plugins (from rasterio)\n",
            "  Downloading click_plugins-1.1.1-py2.py3-none-any.whl.metadata (6.4 kB)\n",
            "Requirement already satisfied: pyparsing in /usr/local/lib/python3.10/dist-packages (from rasterio) (3.1.4)\n",
            "Downloading rasterio-1.4.1-cp310-cp310-manylinux_2_17_x86_64.manylinux2014_x86_64.whl (22.2 MB)\n",
            "\u001b[2K   \u001b[90m━━━━━━━━━━━━━━━━━━━━━━━━━━━━━━━━━━━━━━━━\u001b[0m \u001b[32m22.2/22.2 MB\u001b[0m \u001b[31m30.8 MB/s\u001b[0m eta \u001b[36m0:00:00\u001b[0m\n",
            "\u001b[?25hDownloading cligj-0.7.2-py3-none-any.whl (7.1 kB)\n",
            "Downloading affine-2.4.0-py3-none-any.whl (15 kB)\n",
            "Downloading click_plugins-1.1.1-py2.py3-none-any.whl (7.5 kB)\n",
            "Installing collected packages: cligj, click-plugins, affine, rasterio\n",
            "Successfully installed affine-2.4.0 click-plugins-1.1.1 cligj-0.7.2 rasterio-1.4.1\n"
          ]
        }
      ]
    },
    {
      "cell_type": "code",
      "execution_count": 20,
      "metadata": {
        "colab": {
          "base_uri": "https://localhost:8080/",
          "height": 17
        },
        "id": "Ehe-iYDrJCNA",
        "outputId": "eefbc1b0-8e8f-4cf4-969f-28e73b8e340d"
      },
      "outputs": [
        {
          "output_type": "display_data",
          "data": {
            "text/plain": [
              "<IPython.core.display.HTML object>"
            ],
            "text/html": [
              "\n",
              "            <style>\n",
              "                .geemap-dark {\n",
              "                    --jp-widgets-color: white;\n",
              "                    --jp-widgets-label-color: white;\n",
              "                    --jp-ui-font-color1: white;\n",
              "                    --jp-layout-color2: #454545;\n",
              "                    background-color: #383838;\n",
              "                }\n",
              "\n",
              "                .geemap-dark .jupyter-button {\n",
              "                    --jp-layout-color3: #383838;\n",
              "                }\n",
              "\n",
              "                .geemap-colab {\n",
              "                    background-color: var(--colab-primary-surface-color, white);\n",
              "                }\n",
              "\n",
              "                .geemap-colab .jupyter-button {\n",
              "                    --jp-layout-color3: var(--colab-primary-surface-color, white);\n",
              "                }\n",
              "            </style>\n",
              "            "
            ]
          },
          "metadata": {}
        }
      ],
      "source": [
        "# 필요한 모듈 임포트\n",
        "import ee\n",
        "import geemap\n",
        "import pandas as pd\n",
        "import numpy as np\n",
        "import matplotlib.pyplot as plt\n",
        "import matplotlib.colors as mcolors\n",
        "import seaborn as sns\n",
        "from osgeo import gdal\n",
        "import requests\n",
        "import json\n",
        "import geopandas as gpd\n",
        "import os\n",
        "import shutil\n",
        "import psutil\n",
        "from google.colab import drive\n",
        "import zipfile\n",
        "import glob\n",
        "import rasterio\n",
        "from rasterio import mask\n",
        "import numpy.ma as ma  # 마스킹된 배열을 처리하기 위한 모듈\n",
        "\n",
        "# Earth Engine 인증\n",
        "ee.Authenticate()\n",
        "\n",
        "# Earth Engine 초기화\n",
        "ee.Initialize(project='ee-jjangmo91')"
      ]
    },
    {
      "cell_type": "markdown",
      "source": [
        "Google Drive에 저장된 데이터를 가져옵니다."
      ],
      "metadata": {
        "id": "-3rszwKbJeof"
      }
    },
    {
      "cell_type": "code",
      "source": [
        "# Google Drive 마운트\n",
        "drive.mount('/content/drive')\n",
        "\n",
        "# 데이터 폴더 경로 설정\n",
        "data_dir = '/content/drive/MyDrive/Deer2/'"
      ],
      "metadata": {
        "colab": {
          "base_uri": "https://localhost:8080/",
          "height": 35
        },
        "id": "z7-CeZcZJdQd",
        "outputId": "ff0cbde9-5d51-4778-e8c2-626f9b790b73"
      },
      "execution_count": 21,
      "outputs": [
        {
          "output_type": "display_data",
          "data": {
            "text/plain": [
              "<IPython.core.display.HTML object>"
            ],
            "text/html": [
              "\n",
              "            <style>\n",
              "                .geemap-dark {\n",
              "                    --jp-widgets-color: white;\n",
              "                    --jp-widgets-label-color: white;\n",
              "                    --jp-ui-font-color1: white;\n",
              "                    --jp-layout-color2: #454545;\n",
              "                    background-color: #383838;\n",
              "                }\n",
              "\n",
              "                .geemap-dark .jupyter-button {\n",
              "                    --jp-layout-color3: #383838;\n",
              "                }\n",
              "\n",
              "                .geemap-colab {\n",
              "                    background-color: var(--colab-primary-surface-color, white);\n",
              "                }\n",
              "\n",
              "                .geemap-colab .jupyter-button {\n",
              "                    --jp-layout-color3: var(--colab-primary-surface-color, white);\n",
              "                }\n",
              "            </style>\n",
              "            "
            ]
          },
          "metadata": {}
        },
        {
          "output_type": "stream",
          "name": "stdout",
          "text": [
            "Drive already mounted at /content/drive; to attempt to forcibly remount, call drive.mount(\"/content/drive\", force_remount=True).\n"
          ]
        }
      ]
    },
    {
      "cell_type": "code",
      "source": [
        "# TIFF 파일 목록 가져오기\n",
        "tiff_files = glob.glob(os.path.join(data_dir, '*.tif'))\n",
        "\n",
        "# 파일명에서 연도 추출하여 데이터프레임 생성\n",
        "file_data = []\n",
        "\n",
        "for file_path in tiff_files:\n",
        "    # 파일명 추출\n",
        "    file_name = os.path.basename(file_path)\n",
        "\n",
        "    # 파일명에서 연도 추출 (예: 'synseries_sg_anmado_2014-0000000000-0000000000.tif'에서 '2014' 추출)\n",
        "    try:\n",
        "        year_str = file_name.split('_')[2]  # 파일명에서 세 번째 요소가 연도임 ('2014')\n",
        "        year = int(year_str)  # 연도가 숫자로 변환 가능한지 확인\n",
        "    except (IndexError, ValueError):\n",
        "        print(f\"Error extracting year from file name: {file_name}\")\n",
        "        continue\n",
        "\n",
        "    # 파일 경로와 연도 정보를 저장\n",
        "    file_data.append({'file_path': file_path, 'year': year})\n",
        "\n",
        "# 데이터프레임 생성\n",
        "if file_data:\n",
        "    files_df = pd.DataFrame(file_data)\n",
        "\n",
        "    # 연도 순으로 정렬\n",
        "    files_df = files_df.sort_values(by='year').reset_index(drop=True)\n",
        "\n",
        "    # 결과 출력\n",
        "    print(files_df)\n",
        "else:\n",
        "    print(\"No valid TIFF files found with extractable year information.\")"
      ],
      "metadata": {
        "colab": {
          "base_uri": "https://localhost:8080/",
          "height": 164
        },
        "id": "MWHm-kHgNzoJ",
        "outputId": "3fc5de14-d8e7-4e42-c3c9-f02f0a604786"
      },
      "execution_count": 33,
      "outputs": [
        {
          "output_type": "display_data",
          "data": {
            "text/plain": [
              "<IPython.core.display.HTML object>"
            ],
            "text/html": [
              "\n",
              "            <style>\n",
              "                .geemap-dark {\n",
              "                    --jp-widgets-color: white;\n",
              "                    --jp-widgets-label-color: white;\n",
              "                    --jp-ui-font-color1: white;\n",
              "                    --jp-layout-color2: #454545;\n",
              "                    background-color: #383838;\n",
              "                }\n",
              "\n",
              "                .geemap-dark .jupyter-button {\n",
              "                    --jp-layout-color3: #383838;\n",
              "                }\n",
              "\n",
              "                .geemap-colab {\n",
              "                    background-color: var(--colab-primary-surface-color, white);\n",
              "                }\n",
              "\n",
              "                .geemap-colab .jupyter-button {\n",
              "                    --jp-layout-color3: var(--colab-primary-surface-color, white);\n",
              "                }\n",
              "            </style>\n",
              "            "
            ]
          },
          "metadata": {}
        },
        {
          "output_type": "stream",
          "name": "stdout",
          "text": [
            "Error extracting year from file name: synseries_sg_anmado_2015-0000000000-0000000000.tif\n",
            "Error extracting year from file name: synseries_sg_anmado_2014-0000000000-0000000000.tif\n",
            "Error extracting year from file name: synseries_sg_anmado_2016-0000000000-0000000000.tif\n",
            "Error extracting year from file name: synseries_sg_anmado_2017-0000000000-0000000000.tif\n",
            "Error extracting year from file name: synseries_sg_anmado_2018-0000000000-0000000000.tif\n",
            "Error extracting year from file name: synseries_sg_anmado_2019-0000000000-0000000000.tif\n",
            "Error extracting year from file name: synseries_sg_anmado_2020-0000000000-0000000000.tif\n",
            "No valid TIFF files found with extractable year information.\n"
          ]
        }
      ]
    },
    {
      "cell_type": "code",
      "source": [
        "# GeoJSON 파일을 GEE FeatureCollection으로 변환하는 함수\n",
        "def geojson_to_feature_collection(url):\n",
        "    response = requests.get(url)\n",
        "    geojson = response.json()\n",
        "    features = []\n",
        "    for feature in geojson['features']:\n",
        "        geom = feature['geometry']\n",
        "        feat = {'type': 'Feature', 'geometry': geom, 'properties': feature['properties']}\n",
        "        features.append(feat)\n",
        "    return features\n",
        "\n",
        "# Anmado 및 Songido FeatureCollection 생성\n",
        "url_anmado = 'https://github.com/jjangmo91/Cervus-nippon_Anmado-Is./raw/main/anmado.geojson'\n",
        "url_songido = 'https://github.com/jjangmo91/Cervus-nippon_Anmado-Is./raw/main/songido.geojson'\n",
        "\n",
        "anmado_features = geojson_to_feature_collection(url_anmado)\n",
        "songido_features = geojson_to_feature_collection(url_songido)\n",
        "\n",
        "# GeoDataFrame으로 변환\n",
        "anmado_gdf = gpd.GeoDataFrame.from_features(anmado_features)\n",
        "songido_gdf = gpd.GeoDataFrame.from_features(songido_features)\n",
        "\n",
        "# 각 지역에 대한 AOI 설정 함수\n",
        "def set_aoi_by_frtp(features, region_name):\n",
        "    frtp_values = ['0', '1', '2', '3']\n",
        "    aoi_dict = {}\n",
        "\n",
        "    for frtp_value in frtp_values:\n",
        "        # 해당 지역에서 FRTP_CD 값을 가진 Feature 추출\n",
        "        filtered_features = [feat for feat in features if feat['properties']['FRTP_CD'] == frtp_value]\n",
        "\n",
        "        if len(filtered_features) == 0:\n",
        "            print(f\"{region_name}: FRTP_CD {frtp_value}에 대한 Feature가 없습니다.\")\n",
        "            continue\n",
        "\n",
        "        # GeoPandas를 사용하여 Feature를 GeoDataFrame으로 변환\n",
        "        gdf = gpd.GeoDataFrame.from_features(filtered_features)\n",
        "\n",
        "        # AOI 설정 (MultiPolygon으로 결합)\n",
        "        aoi = gdf.unary_union\n",
        "        aoi_dict[frtp_value] = aoi\n",
        "\n",
        "        print(f\"{region_name}: FRTP_CD {frtp_value}에 대한 AOI가 설정되었습니다.\")\n",
        "\n",
        "    return aoi_dict"
      ],
      "metadata": {
        "colab": {
          "base_uri": "https://localhost:8080/",
          "height": 17
        },
        "id": "NcU0QbyGTCzt",
        "outputId": "50c68069-e0ae-4086-ed55-9e58bfe5ce51"
      },
      "execution_count": 34,
      "outputs": [
        {
          "output_type": "display_data",
          "data": {
            "text/plain": [
              "<IPython.core.display.HTML object>"
            ],
            "text/html": [
              "\n",
              "            <style>\n",
              "                .geemap-dark {\n",
              "                    --jp-widgets-color: white;\n",
              "                    --jp-widgets-label-color: white;\n",
              "                    --jp-ui-font-color1: white;\n",
              "                    --jp-layout-color2: #454545;\n",
              "                    background-color: #383838;\n",
              "                }\n",
              "\n",
              "                .geemap-dark .jupyter-button {\n",
              "                    --jp-layout-color3: #383838;\n",
              "                }\n",
              "\n",
              "                .geemap-colab {\n",
              "                    background-color: var(--colab-primary-surface-color, white);\n",
              "                }\n",
              "\n",
              "                .geemap-colab .jupyter-button {\n",
              "                    --jp-layout-color3: var(--colab-primary-surface-color, white);\n",
              "                }\n",
              "            </style>\n",
              "            "
            ]
          },
          "metadata": {}
        }
      ]
    },
    {
      "cell_type": "markdown",
      "source": [
        "래스터 데이터의 CRS를 AOI 좌표계와 일치시켜줍니다."
      ],
      "metadata": {
        "id": "t5Od9HR1humw"
      }
    },
    {
      "cell_type": "code",
      "source": [
        "# Anmado와 Songido에 대한 AOI 설정\n",
        "anmado_aoi_dict = set_aoi_by_frtp(anmado_features, \"Anmado\")\n",
        "songido_aoi_dict = set_aoi_by_frtp(songido_features, \"Songido\")\n",
        "\n",
        "# AOI의 기본 좌표계를 설정 (GeoJSON 파일의 기본 좌표계는 EPSG:4326일 가능성이 높음)\n",
        "anmado_gdf = gpd.GeoDataFrame(geometry=anmado_gdf.geometry, crs='EPSG:4326')\n",
        "songido_gdf = gpd.GeoDataFrame(geometry=songido_gdf.geometry, crs='EPSG:4326')\n",
        "\n",
        "# 래스터 데이터의 CRS 설정 (예: EPSG:32652)\n",
        "raster_crs = 'EPSG:32652'\n",
        "\n",
        "# AOI의 좌표계를 래스터 데이터의 CRS로 변환\n",
        "anmado_gdf = anmado_gdf.to_crs(raster_crs)\n",
        "songido_gdf = songido_gdf.to_crs(raster_crs)\n",
        "\n",
        "# 변환된 CRS 출력\n",
        "print(f\"Transformed Anmado AOI CRS: {anmado_gdf.crs}\")\n",
        "print(f\"Transformed Songido AOI CRS: {songido_gdf.crs}\")"
      ],
      "metadata": {
        "id": "-1tMYi5Ohs3S",
        "outputId": "4e03dc73-319e-44ab-c9a6-0257913056df",
        "colab": {
          "base_uri": "https://localhost:8080/",
          "height": 237
        }
      },
      "execution_count": 35,
      "outputs": [
        {
          "output_type": "display_data",
          "data": {
            "text/plain": [
              "<IPython.core.display.HTML object>"
            ],
            "text/html": [
              "\n",
              "            <style>\n",
              "                .geemap-dark {\n",
              "                    --jp-widgets-color: white;\n",
              "                    --jp-widgets-label-color: white;\n",
              "                    --jp-ui-font-color1: white;\n",
              "                    --jp-layout-color2: #454545;\n",
              "                    background-color: #383838;\n",
              "                }\n",
              "\n",
              "                .geemap-dark .jupyter-button {\n",
              "                    --jp-layout-color3: #383838;\n",
              "                }\n",
              "\n",
              "                .geemap-colab {\n",
              "                    background-color: var(--colab-primary-surface-color, white);\n",
              "                }\n",
              "\n",
              "                .geemap-colab .jupyter-button {\n",
              "                    --jp-layout-color3: var(--colab-primary-surface-color, white);\n",
              "                }\n",
              "            </style>\n",
              "            "
            ]
          },
          "metadata": {}
        },
        {
          "output_type": "stream",
          "name": "stderr",
          "text": [
            "<ipython-input-34-f2fb1240462a>:40: DeprecationWarning: The 'unary_union' attribute is deprecated, use the 'union_all()' method instead.\n",
            "  aoi = gdf.unary_union\n"
          ]
        },
        {
          "output_type": "stream",
          "name": "stdout",
          "text": [
            "Anmado: FRTP_CD 0에 대한 AOI가 설정되었습니다.\n",
            "Anmado: FRTP_CD 1에 대한 AOI가 설정되었습니다.\n",
            "Anmado: FRTP_CD 2에 대한 AOI가 설정되었습니다.\n",
            "Anmado: FRTP_CD 3에 대한 AOI가 설정되었습니다.\n",
            "Songido: FRTP_CD 0에 대한 AOI가 설정되었습니다.\n",
            "Songido: FRTP_CD 1에 대한 AOI가 설정되었습니다.\n",
            "Songido: FRTP_CD 2에 대한 AOI가 설정되었습니다.\n",
            "Songido: FRTP_CD 3에 대한 AOI가 설정되었습니다.\n",
            "Transformed Anmado AOI CRS: EPSG:32652\n",
            "Transformed Songido AOI CRS: EPSG:32652\n"
          ]
        }
      ]
    },
    {
      "cell_type": "markdown",
      "source": [
        "데이터에 이미 GF-SG가 적용되었으므로, 대상지역의 NDVI 시계열 데이터를 추출하고 시각화합니다."
      ],
      "metadata": {
        "id": "MhMsZg6MVCbe"
      }
    },
    {
      "cell_type": "code",
      "source": [
        "# 결과를 저장할 딕셔너리 초기화 (Anmado와 Songido를 각각 처리)\n",
        "frtp_values = ['0', '1', '2', '3']\n",
        "ndvi_data_by_frtp_anmado = {frtp_value: [] for frtp_value in frtp_values}\n",
        "ndvi_data_by_frtp_songido = {frtp_value: [] for frtp_value in frtp_values}\n",
        "\n",
        "# 밴드가 이미 시간순으로 정렬되어 있다고 가정\n",
        "if not files_df.empty:\n",
        "    for idx, row in files_df.iterrows():\n",
        "        file_path = row['file_path']\n",
        "        year = row['year']  # 파일명에서 추출한 연도 사용\n",
        "\n",
        "        # TIFF 파일 열기\n",
        "        with rasterio.open(file_path) as src:\n",
        "            band_count = src.count  # 밴드 수 확인\n",
        "            raster_crs = src.crs  # 래스터의 CRS 가져오기\n",
        "\n",
        "            # 각 지역 (Anmado와 Songido)에 대해 AOI를 래스터의 CRS로 변환\n",
        "            transformed_aois_anmado = {}\n",
        "            transformed_aois_songido = {}\n",
        "\n",
        "            for frtp_value in frtp_values:\n",
        "                # Anmado AOI 변환\n",
        "                if frtp_value in anmado_aoi_dict:\n",
        "                    aoi_anmado = anmado_aoi_dict[frtp_value]\n",
        "                    aoi_gdf_anmado = gpd.GeoDataFrame(geometry=[aoi_anmado], crs='EPSG:4326')\n",
        "                    aoi_gdf_anmado = aoi_gdf_anmado.to_crs(raster_crs)\n",
        "                    transformed_aois_anmado[frtp_value] = aoi_gdf_anmado.iloc[0].geometry\n",
        "\n",
        "                # Songido AOI 변환\n",
        "                if frtp_value in songido_aoi_dict:\n",
        "                    aoi_songido = songido_aoi_dict[frtp_value]\n",
        "                    aoi_gdf_songido = gpd.GeoDataFrame(geometry=[aoi_songido], crs='EPSG:4326')\n",
        "                    aoi_gdf_songido = aoi_gdf_songido.to_crs(raster_crs)\n",
        "                    transformed_aois_songido[frtp_value] = aoi_gdf_songido.iloc[0].geometry\n",
        "\n",
        "            # 각 밴드별로 처리 (밴드가 시간 순으로 이미 정렬되어 있음)\n",
        "            for band_idx in range(1, band_count + 1):\n",
        "                # Anmado에 대한 NDVI 평균값 계산\n",
        "                for frtp_value in frtp_values:\n",
        "                    if frtp_value in transformed_aois_anmado:\n",
        "                        aoi_anmado = transformed_aois_anmado[frtp_value]\n",
        "                        try:\n",
        "                            ndvi_masked, _ = mask.mask(\n",
        "                                src,\n",
        "                                [aoi_anmado],\n",
        "                                crop=True,\n",
        "                                all_touched=True,\n",
        "                                indexes=band_idx,\n",
        "                                filled=False  # filled를 False로 설정하여 마스크된 배열 반환\n",
        "                            )\n",
        "                            ndvi_masked = ndvi_masked[0]  # 첫 번째 배열 선택\n",
        "                            ndvi_masked = ndvi_masked.astype('float32') / 10000.0  # NDVI 값 보정\n",
        "\n",
        "                            # 누락값(-9999)을 마스킹 처리\n",
        "                            ndvi_masked = np.ma.masked_where(ndvi_masked == -9999, ndvi_masked)\n",
        "\n",
        "                            # NDVI 평균값 계산 (마스크된 값을 무시)\n",
        "                            ndvi_mean = ndvi_masked.mean()\n",
        "                        except ValueError as e:\n",
        "                            print(f\"Anmado ValueError for FRTP_CD {frtp_value}: {e}\")\n",
        "                            ndvi_mean = np.nan\n",
        "\n",
        "                        # 결과 저장 (밴드 번호와 연도를 기반으로 저장)\n",
        "                        ndvi_data_by_frtp_anmado[frtp_value].append({\n",
        "                            'year': year,\n",
        "                            'band': band_idx,\n",
        "                            'NDVI': ndvi_mean\n",
        "                        })\n",
        "\n",
        "                # Songido에 대한 NDVI 평균값 계산\n",
        "                for frtp_value in frtp_values:\n",
        "                    if frtp_value in transformed_aois_songido:\n",
        "                        aoi_songido = transformed_aois_songido[frtp_value]\n",
        "                        try:\n",
        "                            ndvi_masked, _ = mask.mask(\n",
        "                                src,\n",
        "                                [aoi_songido],\n",
        "                                crop=True,\n",
        "                                all_touched=True,\n",
        "                                indexes=band_idx,\n",
        "                                filled=False  # filled를 False로 설정하여 마스크된 배열 반환\n",
        "                            )\n",
        "                            ndvi_masked = ndvi_masked[0]  # 첫 번째 배열 선택\n",
        "                            ndvi_masked = ndvi_masked.astype('float32') / 10000.0  # NDVI 값 보정\n",
        "\n",
        "                            # 누락값(-9999)을 마스킹 처리\n",
        "                            ndvi_masked = np.ma.masked_where(ndvi_masked == -9999, ndvi_masked)\n",
        "\n",
        "                            # NDVI 평균값 계산 (마스크된 값을 무시)\n",
        "                            ndvi_mean = ndvi_masked.mean()\n",
        "                        except ValueError as e:\n",
        "                            print(f\"Songido ValueError for FRTP_CD {frtp_value}: {e}\")\n",
        "                            ndvi_mean = np.nan\n",
        "\n",
        "                        # 결과 저장 (밴드 번호와 연도를 기반으로 저장)\n",
        "                        ndvi_data_by_frtp_songido[frtp_value].append({\n",
        "                            'year': year,\n",
        "                            'band': band_idx,\n",
        "                            'NDVI': ndvi_mean\n",
        "                        })"
      ],
      "metadata": {
        "id": "h9w-zbV2U_vM",
        "outputId": "61a42639-eb6c-48d8-d686-fe21b4bfe9a3",
        "colab": {
          "base_uri": "https://localhost:8080/",
          "height": 17
        }
      },
      "execution_count": 36,
      "outputs": [
        {
          "output_type": "display_data",
          "data": {
            "text/plain": [
              "<IPython.core.display.HTML object>"
            ],
            "text/html": [
              "\n",
              "            <style>\n",
              "                .geemap-dark {\n",
              "                    --jp-widgets-color: white;\n",
              "                    --jp-widgets-label-color: white;\n",
              "                    --jp-ui-font-color1: white;\n",
              "                    --jp-layout-color2: #454545;\n",
              "                    background-color: #383838;\n",
              "                }\n",
              "\n",
              "                .geemap-dark .jupyter-button {\n",
              "                    --jp-layout-color3: #383838;\n",
              "                }\n",
              "\n",
              "                .geemap-colab {\n",
              "                    background-color: var(--colab-primary-surface-color, white);\n",
              "                }\n",
              "\n",
              "                .geemap-colab .jupyter-button {\n",
              "                    --jp-layout-color3: var(--colab-primary-surface-color, white);\n",
              "                }\n",
              "            </style>\n",
              "            "
            ]
          },
          "metadata": {}
        }
      ]
    },
    {
      "cell_type": "code",
      "source": [
        "# 데이터프레임 생성\n",
        "ndvi_df_list = []\n",
        "\n",
        "# Anmado와 Songido의 데이터를 결합하여 데이터프레임 생성\n",
        "for region_name, ndvi_data_by_frtp in zip(['Anmado', 'Songido'], [ndvi_data_by_frtp_anmado, ndvi_data_by_frtp_songido]):\n",
        "    for frtp_value, data_list in ndvi_data_by_frtp.items():\n",
        "        df = pd.DataFrame(data_list)\n",
        "        if not df.empty:\n",
        "            df['FRTP_CD'] = frtp_value\n",
        "            df['Region'] = region_name\n",
        "            ndvi_df_list.append(df)\n",
        "\n",
        "# 모든 데이터를 하나의 데이터프레임으로 결합\n",
        "if ndvi_df_list:\n",
        "    ndvi_df = pd.concat(ndvi_df_list)\n",
        "\n",
        "    # 날짜 형식 변환 및 정렬 (연도를 datetime 형식으로 변환)\n",
        "    ndvi_df['date'] = pd.to_datetime(ndvi_df['year'], format='%Y')\n",
        "    ndvi_df = ndvi_df.sort_values(by='date')\n",
        "\n",
        "    # FRTP_CD를 카테고리형으로 변환하고 순서 지정\n",
        "    frtp_order = ['0', '1', '2', '3']\n",
        "    ndvi_df['FRTP_CD'] = pd.Categorical(ndvi_df['FRTP_CD'], categories=frtp_order, ordered=True)\n",
        "\n",
        "    # 시각화 스타일 설정\n",
        "    sns.set(style=\"whitegrid\")\n",
        "\n",
        "    # 시계열 그래프 그리기\n",
        "    plt.figure(figsize=(14, 7))\n",
        "    sns.lineplot(\n",
        "        data=ndvi_df,\n",
        "        x='date',\n",
        "        y='NDVI',\n",
        "        hue='FRTP_CD',\n",
        "        style='Region',\n",
        "        hue_order=frtp_order,  # 순서 지정\n",
        "        marker='o',\n",
        "        palette='tab10'\n",
        "    )\n",
        "\n",
        "    # 그래프 제목 및 레이블 설정\n",
        "    plt.title('NDVI Time Series Comparison by FRTP and Region', fontsize=16)\n",
        "    plt.xlabel('Date', fontsize=14)\n",
        "    plt.ylabel('Mean NDVI Value', fontsize=14)\n",
        "    plt.legend(title='FRTP_CD and Region', fontsize=12, title_fontsize=13)\n",
        "    plt.xticks(rotation=45)\n",
        "    plt.tight_layout()\n",
        "    plt.show()\n",
        "else:\n",
        "    print(\"No valid NDVI data available for plotting.\")"
      ],
      "metadata": {
        "id": "ioYx3oG0lJK3",
        "outputId": "1d416730-78b4-4a03-8918-31ad867edf3e",
        "colab": {
          "base_uri": "https://localhost:8080/",
          "height": 35
        }
      },
      "execution_count": 38,
      "outputs": [
        {
          "output_type": "display_data",
          "data": {
            "text/plain": [
              "<IPython.core.display.HTML object>"
            ],
            "text/html": [
              "\n",
              "            <style>\n",
              "                .geemap-dark {\n",
              "                    --jp-widgets-color: white;\n",
              "                    --jp-widgets-label-color: white;\n",
              "                    --jp-ui-font-color1: white;\n",
              "                    --jp-layout-color2: #454545;\n",
              "                    background-color: #383838;\n",
              "                }\n",
              "\n",
              "                .geemap-dark .jupyter-button {\n",
              "                    --jp-layout-color3: #383838;\n",
              "                }\n",
              "\n",
              "                .geemap-colab {\n",
              "                    background-color: var(--colab-primary-surface-color, white);\n",
              "                }\n",
              "\n",
              "                .geemap-colab .jupyter-button {\n",
              "                    --jp-layout-color3: var(--colab-primary-surface-color, white);\n",
              "                }\n",
              "            </style>\n",
              "            "
            ]
          },
          "metadata": {}
        },
        {
          "output_type": "stream",
          "name": "stdout",
          "text": [
            "No valid NDVI data available for plotting.\n"
          ]
        }
      ]
    }
  ]
}